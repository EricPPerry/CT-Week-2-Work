{
 "cells": [
  {
   "cell_type": "markdown",
   "metadata": {},
   "source": [
    "# Object-Oriented-Programming (OOP)"
   ]
  },
  {
   "cell_type": "markdown",
   "metadata": {},
   "source": [
    "## Tasks Today:\n",
    "\n",
    "   \n",
    "\n",
    "1) <b>Creating a Class (Initializing/Declaring)</b> <br>\n",
    "2) <b>Using a Class (Instantiating)</b> <br>\n",
    " &nbsp;&nbsp;&nbsp;&nbsp; a) Creating One Instance <br>\n",
    " &nbsp;&nbsp;&nbsp;&nbsp; b) Creating Multiple Instances <br>\n",
    " &nbsp;&nbsp;&nbsp;&nbsp; c) In-Class Exercise #1 - Create a Class 'Car' and instantiate three different makes of cars <br>\n",
    "3) <b>The \\__init\\__() Method</b> <br>\n",
    " &nbsp;&nbsp;&nbsp;&nbsp; a) The 'self' Attribute <br>\n",
    "4) <b>Class Attributes</b> <br>\n",
    " &nbsp;&nbsp;&nbsp;&nbsp; a) Initializing Attributes <br>\n",
    " &nbsp;&nbsp;&nbsp;&nbsp; b) Setting an Attribute Outside of the \\__init\\__() Method <br>\n",
    " &nbsp;&nbsp;&nbsp;&nbsp; c) Setting Defaults for Attributes <br>\n",
    " &nbsp;&nbsp;&nbsp;&nbsp; d) Accessing Class Attributes <br>\n",
    " &nbsp;&nbsp;&nbsp;&nbsp; e) Changing Class Attributes <br>\n",
    " &nbsp;&nbsp;&nbsp;&nbsp; f) In-Class Exercise #2 - Add a color and wheels attribute to your 'Car' class <br>\n",
    "5) <b>Class Methods</b> <br>\n",
    " &nbsp;&nbsp;&nbsp;&nbsp; a) Creating <br>\n",
    " &nbsp;&nbsp;&nbsp;&nbsp; b) Calling <br>\n",
    " &nbsp;&nbsp;&nbsp;&nbsp; c) Modifying an Attribute's Value Through a Method <br>\n",
    " &nbsp;&nbsp;&nbsp;&nbsp; d) Incrementing an Attribute's Value Through a Method <br>\n",
    " &nbsp;&nbsp;&nbsp;&nbsp; e) In-Class Exercise #3 - Add a method that prints the cars color and wheel number, then call them <br>\n",
    "6) <b>Inheritance</b> <br>\n",
    " &nbsp;&nbsp;&nbsp;&nbsp; a) Syntax for Inheriting from a Parent Class <br>\n",
    " &nbsp;&nbsp;&nbsp;&nbsp; b) The \\__init\\__() Method for a Child Class (super()) <br>\n",
    " &nbsp;&nbsp;&nbsp;&nbsp; c) Defining Attributes and Methods for the Child Class <br>\n",
    " &nbsp;&nbsp;&nbsp;&nbsp; d) Method Overriding <br>\n",
    " &nbsp;&nbsp;&nbsp;&nbsp; e) In-Class Exercise #4 - Create a class 'Ford' that inherits from 'Car' class and initialize it as a Blue Ford Explorer with 4 wheels using the super() method <br>\n",
    "7) <b>Classes as Attributes</b> <br>\n",
    "8) <b>Exercises</b> <br>\n",
    " &nbsp;&nbsp;&nbsp;&nbsp; a) Exercise #1 - Turn the shopping cart program from yesterday into an object-oriented program <br>"
   ]
  },
  {
   "cell_type": "code",
   "execution_count": null,
   "metadata": {},
   "outputs": [],
   "source": [
    "# Shopping Cart Example\n",
    "\n",
    "from IPython.display import clear_output\n",
    "\n",
    "# Creating Global List\n",
    "\n",
    "cart = []\n",
    "\n",
    "#Add to Cart function\n",
    "def addItem(item):\n",
    "    clear_output()\n",
    "    cart.append(item)\n",
    "    \n",
    "# Remove from cart function\n",
    "def removeItem(item):\n",
    "    clear_output()\n",
    "    cart.remove(item)\n",
    "    \n",
    "# Show Cart Function\n",
    "def showCart():\n",
    "    clear_output()\n",
    "    print(\"Here is your cart...\")\n",
    "    for value in cart:\n",
    "        print(value)\n",
    "        \n",
    "# Clear Cart Function\n",
    "def clearCart():\n",
    "    clear_output()\n",
    "    print(\"Your Cart is Now Empty\")\n",
    "    cart.clear()\n",
    "    \n",
    "# Creating a function with a loop that continues to ask the user until said user\n",
    "# wants to quit.\n",
    "# Using ALL of the above function inside of the below \"shoppingCart\" Function\n",
    "\n",
    "def shoppingCart():\n",
    "    while True:\n",
    "        response = input(\"What do you want to do? You can: quit/ add/ remove/ show or clear. Type Only one!\")\n",
    "        \n",
    "        if response.lower() == 'quit':\n",
    "            showCart()\n",
    "            print(\"Thanks for using our shopping cart program!\")\n",
    "            break\n",
    "        elif response.lower() == 'add':\n",
    "            item = input(\"What would you like to add?\")\n",
    "            addItem(item)\n",
    "            # clear_output()\n",
    "            # cart.append(item)\n",
    "        elif response.lower() == 'remove':\n",
    "            showCart()\n",
    "            #clear_output()\n",
    "            #print(\"Here is your cart...\")\n",
    "            #for value in cart:\n",
    "                #print(value)\n",
    "            item = input(\"What item do you want to remove?\")\n",
    "            removeItem(item)\n",
    "            #clear_output()\n",
    "            #cart.remove(item)\n",
    "        elif response.lower() == 'show':\n",
    "            showCart()\n",
    "        elif response.lower() == 'clear':\n",
    "            clearCart()\n",
    "            #clear_output()\n",
    "            #print(\"Your Cart is Now Empty\")\n",
    "            #cart.clear()\n",
    "        else:\n",
    "            print(\"Sorry that was not a valid option - Please choose add/remove/show/clear or quit\")\n",
    "shoppingCart()"
   ]
  },
  {
   "cell_type": "code",
   "execution_count": 3,
   "metadata": {},
   "outputs": [
    {
     "data": {
      "text/plain": [
       "'bob'"
      ]
     },
     "execution_count": 3,
     "metadata": {},
     "output_type": "execute_result"
    }
   ],
   "source": [
    "# Circumfrance of a cirle\n",
    "name = 'Bill'\n",
    "\n",
    "if name == 'Joel' or name == 'bob':\n",
    "    print('Name Found')\n",
    "    \n",
    "    \n",
    "name == 'Joel' or 'bob'"
   ]
  },
  {
   "cell_type": "markdown",
   "metadata": {},
   "source": [
    "## Creating a Class (Initializing/Declaring)\n",
    "<p>When creating a class, function, or even a variable you are initializing that object. Initializing and Declaring occur at the same time in Python, whereas in lower level languages you have to declare an object before initializing it. This is the first step in the process of using a class.</p>"
   ]
  },
  {
   "cell_type": "code",
   "execution_count": 1,
   "metadata": {},
   "outputs": [],
   "source": [
    "class Car():\n",
    "    wheels = 4\n",
    "    color = 'blue'"
   ]
  },
  {
   "cell_type": "markdown",
   "metadata": {},
   "source": [
    "## Using a Class (Instantiating)\n",
    "<p>The process of creating a class is called <i>Instantiating</i>. Each time you create a variable of that type of class, it is referred to as an <i>Instance</i> of that class. This is the second step in the process of using a class.</p>"
   ]
  },
  {
   "cell_type": "markdown",
   "metadata": {},
   "source": [
    "##### Creating One Instance"
   ]
  },
  {
   "cell_type": "code",
   "execution_count": 3,
   "metadata": {},
   "outputs": [
    {
     "name": "stdout",
     "output_type": "stream",
     "text": [
      "blue\n"
     ]
    }
   ],
   "source": [
    "ford = Car()\n",
    "\n",
    "print(ford.color)"
   ]
  },
  {
   "cell_type": "markdown",
   "metadata": {},
   "source": [
    "##### Creating Multiple Instances"
   ]
  },
  {
   "cell_type": "code",
   "execution_count": 4,
   "metadata": {},
   "outputs": [
    {
     "name": "stdout",
     "output_type": "stream",
     "text": [
      "4\n"
     ]
    }
   ],
   "source": [
    "chevy = Car()\n",
    "honda = Car()\n",
    "porsche = Car()\n",
    "\n",
    "print(chevy.wheels)"
   ]
  },
  {
   "cell_type": "markdown",
   "metadata": {},
   "source": [
    "##### In-Class Exercise #1 - Create a Class 'Car' and Instantiate three different makes of cars"
   ]
  },
  {
   "cell_type": "code",
   "execution_count": 6,
   "metadata": {},
   "outputs": [
    {
     "name": "stdout",
     "output_type": "stream",
     "text": [
      "green\n",
      "cloth\n",
      "SE\n"
     ]
    }
   ],
   "source": [
    "class Car():\n",
    "    color = 'green'\n",
    "    interior = 'cloth'\n",
    "    trim = 'SE'\n",
    "    \n",
    "volkswagen = Car()\n",
    "print(volkswagen.color)\n",
    "\n",
    "subaru = Car()\n",
    "print(subaru.interior)\n",
    "\n",
    "toyota = Car()\n",
    "print(toyota.trim)"
   ]
  },
  {
   "cell_type": "markdown",
   "metadata": {},
   "source": [
    "## The \\__init\\__() Method <br>\n",
    "<p>This method is used in almost every created class, and called only once upon the creation of the class instance. This method will initialize all variables needed for the object.</p>"
   ]
  },
  {
   "cell_type": "code",
   "execution_count": 9,
   "metadata": {},
   "outputs": [
    {
     "name": "stdout",
     "output_type": "stream",
     "text": [
      "4\n"
     ]
    }
   ],
   "source": [
    "class Car():\n",
    "    engine = '4.7L' #constant-attribute\n",
    "    \n",
    "    def __init__(self,wheels,color):\n",
    "        self.wheels = wheels\n",
    "        self.color = color \n",
    "ford = Car(4,'red')\n",
    "chevy = Car(6, 'blue')\n",
    "\n",
    "print(ford.wheels)"
   ]
  },
  {
   "cell_type": "markdown",
   "metadata": {},
   "source": [
    "##### The 'self' Attribute <br>\n",
    "<p>This attribute is required to keep track of specific instance's attributes. Without the self attribute, the program would not know how to reference or keep track of an instance's attributes.</p>"
   ]
  },
  {
   "cell_type": "code",
   "execution_count": null,
   "metadata": {},
   "outputs": [],
   "source": [
    "# see above"
   ]
  },
  {
   "cell_type": "markdown",
   "metadata": {},
   "source": [
    "## Class Attributes <br>\n",
    "<p>While variables are inside of a class, they are referred to as attributes and not variables. When someone says 'attribute' you know they're speaking about a class. Attributes can be initialized through the init method, or outside of it.</p>"
   ]
  },
  {
   "cell_type": "markdown",
   "metadata": {},
   "source": [
    "##### Initializing Attributes"
   ]
  },
  {
   "cell_type": "code",
   "execution_count": null,
   "metadata": {},
   "outputs": [],
   "source": [
    "# see above"
   ]
  },
  {
   "cell_type": "markdown",
   "metadata": {},
   "source": [
    "##### Accessing Class Attributes"
   ]
  },
  {
   "cell_type": "code",
   "execution_count": null,
   "metadata": {
    "scrolled": true
   },
   "outputs": [],
   "source": [
    "# See Above"
   ]
  },
  {
   "cell_type": "markdown",
   "metadata": {},
   "source": [
    "##### Setting Defaults for Attributes"
   ]
  },
  {
   "cell_type": "code",
   "execution_count": 12,
   "metadata": {},
   "outputs": [
    {
     "name": "stdout",
     "output_type": "stream",
     "text": [
      "8\n",
      "blue\n",
      "4\n",
      "green\n"
     ]
    }
   ],
   "source": [
    "class Car():\n",
    "    engine = '4.7L'\n",
    "    \n",
    "    def __init__(self,wheels, color='blue'):\n",
    "        self.wheels = wheels\n",
    "        self.color = color\n",
    "\n",
    "jeep = Car(8)\n",
    "honda = Car(4, 'green')\n",
    "\n",
    "print(jeep.wheels)\n",
    "print(jeep.color)\n",
    "\n",
    "print(honda.wheels)\n",
    "print(honda.color)"
   ]
  },
  {
   "cell_type": "markdown",
   "metadata": {},
   "source": [
    "##### Changing Class Attributes <br>\n",
    "<p>Keep in mind there are global class attributes and then there are attributes only available to each class instance which won't effect other classes.</p>"
   ]
  },
  {
   "cell_type": "code",
   "execution_count": 13,
   "metadata": {},
   "outputs": [
    {
     "name": "stdout",
     "output_type": "stream",
     "text": [
      "BEFORE CHANGE: blue\n",
      "\n",
      " AFTER CHANGE: white\n"
     ]
    }
   ],
   "source": [
    "#Changing the default attribute for this example\n",
    "print(f'BEFORE CHANGE: {jeep.color}')\n",
    "\n",
    "jeep.color = 'white'\n",
    "\n",
    "print(f'\\n AFTER CHANGE: {jeep.color}')"
   ]
  },
  {
   "cell_type": "code",
   "execution_count": null,
   "metadata": {},
   "outputs": [],
   "source": []
  },
  {
   "cell_type": "markdown",
   "metadata": {},
   "source": [
    "##### In-Class Exercise #2 - Add a doors and seats attribute to your 'Car' class then print out two different instances with different doors and seats"
   ]
  },
  {
   "cell_type": "code",
   "execution_count": 19,
   "metadata": {},
   "outputs": [
    {
     "name": "stdout",
     "output_type": "stream",
     "text": [
      "Lambo color: blue, Lambo Doors: 2, Lambo: 4\n",
      "blue\n",
      "6\n",
      "12\n"
     ]
    }
   ],
   "source": [
    "class Car():\n",
    "    engine = '4.7L'\n",
    "\n",
    "    def __init__(self, wheels, color, doors, seats):\n",
    "        self.wheels = wheels\n",
    "        self.color = 'blue'\n",
    "        self.doors = doors\n",
    "        self.seats = seats\n",
    "\n",
    "lamborghini = Car(4, 'yellow', 2, 4)\n",
    "print(f\"Lambo color: {lamborghini.color}, Lambo Doors: {lamborghini.doors}, Lambo: {lamborghini.seats}\")\n",
    "\n",
    "\n",
    "limousine = Car(4, 'black', 6, 12)\n",
    "print(limousine.color)\n",
    "print(limousine.doors)\n",
    "print(limousine.seats)\n",
    "        "
   ]
  },
  {
   "cell_type": "markdown",
   "metadata": {},
   "source": [
    "## Class Methods <br>\n",
    "<p>While inside of a class, functions are referred to as 'methods'. If you hear someone mention methods, they're speaking about classes. Methods are essentially functions, but only callable on the instances of a class.</p>"
   ]
  },
  {
   "cell_type": "markdown",
   "metadata": {},
   "source": [
    "##### Creating"
   ]
  },
  {
   "cell_type": "code",
   "execution_count": 45,
   "metadata": {},
   "outputs": [],
   "source": [
    "class ShoppingBag():\n",
    "    \"\"\"\n",
    "        The ShoppingBag Class will have handles, capacity and items to place inside.\n",
    "        Attributes for the class: \n",
    "        -handles: expect to be an int\n",
    "        -capacity: expect to be a string OR int \n",
    "        -items: expect a list\n",
    "    \"\"\"\n",
    "    \n",
    "    def __init__(self,handles,capacity,items):\n",
    "        self.handles = handles\n",
    "        self.capacity = capacity\n",
    "        self.items = items \n",
    "        \n",
    "        #Method that shows the ShoppingBag items\n",
    "    def showShoppingBag(self):\n",
    "        print(\"Your items!!!\")\n",
    "        for item in self.items:\n",
    "            print(item)\n",
    "        #Show capacity of ShoppingBag\n",
    "    def showCapacity(self):\n",
    "        print(f\"Your capacity is: {self.capacity}\")\n",
    "        \n",
    "        #Add Item(s) to the items list for the ShoppingBag\n",
    "    def addtoShoppingBag(self):\n",
    "        products = input(\"What would you like to add? \")\n",
    "        self.items.append(products)\n",
    "            \n",
    "        #Change the capacity of the ShoppingBag (dynamically)\n",
    "    def changeBagCapacity(self, capacity):\n",
    "        self.capacity = capacity \n",
    "            \n",
    "        #Increase Capacity of the ShoppingBag by 10 -- default\n",
    "    def increaseCapacity(self, changed_capacity = 10):\n",
    "        if self.capacity == isinstance(self.capacity, str):\n",
    "            print(\"We can't do that\")\n",
    "        else:\n",
    "            self.capacity += changed_capacity"
   ]
  },
  {
   "cell_type": "markdown",
   "metadata": {},
   "source": [
    "##### Calling"
   ]
  },
  {
   "cell_type": "code",
   "execution_count": 46,
   "metadata": {},
   "outputs": [
    {
     "name": "stdout",
     "output_type": "stream",
     "text": [
      "What would you like to do? (Add/Show/Quit) quit\n",
      "Your items!!!\n",
      "Thanks for shopping!\n"
     ]
    }
   ],
   "source": [
    "# See Above\n",
    "#Created a instance of the ShoppingBag Class\n",
    "\n",
    "wholeFoods_bag = ShoppingBag(2, 10, [])\n",
    "\n",
    "#Create a function to run the ShoppingBag(wholeFoods_bag) methods\n",
    "def run():\n",
    "    while True:\n",
    "        response = input(\"What would you like to do? (Add/Show/Quit) \")\n",
    "        \n",
    "        if response.lower() == 'quit':\n",
    "            wholeFoods_bag.showShoppingBag()\n",
    "            print(\"Thanks for shopping!\")\n",
    "            break\n",
    "        elif response.lower() == 'add':\n",
    "            wholeFoods_bag.addtoShoppingBag()\n",
    "        elif response.lower() == 'show':\n",
    "            wholeFoods_bag.showShoppingBag()\n",
    "\n",
    "run()"
   ]
  },
  {
   "cell_type": "markdown",
   "metadata": {},
   "source": [
    "##### Modifying an Attribute's Value Through a Method"
   ]
  },
  {
   "cell_type": "code",
   "execution_count": 47,
   "metadata": {},
   "outputs": [
    {
     "name": "stdout",
     "output_type": "stream",
     "text": [
      "Your capacity is: 10\n",
      "Capacity AFTER the change...\n",
      "Your capacity is: 50\n"
     ]
    }
   ],
   "source": [
    "#Show Capacity\n",
    "wholeFoods_bag.showCapacity()\n",
    "\n",
    "print('Capacity AFTER the change...')\n",
    "wholeFoods_bag.changeBagCapacity(50)\n",
    "wholeFoods_bag.showCapacity()"
   ]
  },
  {
   "cell_type": "markdown",
   "metadata": {},
   "source": [
    "##### Incrementing an Attribute's Value Through a Method"
   ]
  },
  {
   "cell_type": "code",
   "execution_count": 48,
   "metadata": {},
   "outputs": [
    {
     "name": "stdout",
     "output_type": "stream",
     "text": [
      "Your capacity is: 50\n",
      "After INCREASE\n",
      "Your capacity is: 100\n"
     ]
    }
   ],
   "source": [
    "#Show Capacity\n",
    "wholeFoods_bag.showCapacity()\n",
    "print('After INCREASE')\n",
    "wholeFoods_bag.increaseCapacity(50)\n",
    "wholeFoods_bag.showCapacity()"
   ]
  },
  {
   "cell_type": "markdown",
   "metadata": {},
   "source": [
    "##### In-Class Exercise #3 - Add a method that takes in three parameters of year, doors and seats and prints out a formatted print statement with make, model, year, seats, and doors"
   ]
  },
  {
   "cell_type": "code",
   "execution_count": 56,
   "metadata": {},
   "outputs": [
    {
     "name": "stdout",
     "output_type": "stream",
     "text": [
      "volkswagen\n",
      "This is a car from 2018 and is a volkswagen gti and has 4 doors and 5 seats.\n"
     ]
    }
   ],
   "source": [
    "# Create class with 2 paramters inside of the __init__ which are make and model\n",
    "class NewCar():\n",
    "    def __init__(self, make, model):\n",
    "        self.make = make\n",
    "        self.model = model\n",
    "# Inside of the Car class create a method that has 4 parameter in total (self,year,door,seats)\n",
    "    def car_method(self, year, door, seats):\n",
    "        self.year = year\n",
    "        self.door = door\n",
    "        self.seats = seats\n",
    "        print(f\"This is a car from {self.year} and is a {self.make} {self.model} and has {self.door} doors and {self.seats} seats.\")\n",
    "\n",
    "# Output: This car is from 2019 and is a Ford Expolorer and has 4 doors and 5 seats\n",
    "my_car = NewCar('volkswagen', 'gti')\n",
    "print(my_car.make)\n",
    "\n",
    "my_car.car_method(2018, 4, 5)\n"
   ]
  },
  {
   "cell_type": "markdown",
   "metadata": {},
   "source": [
    "## Inheritance <br>\n",
    "<p>You can create a child-parent relationship between two classes by using inheritance. What this allows you to do is have overriding methods, but also inherit traits from the parent class. Think of it as an actual parent and child, the child will inherit the parent's genes, as will the classes in OOP</p>"
   ]
  },
  {
   "cell_type": "markdown",
   "metadata": {},
   "source": [
    "##### Syntax for Inheriting from a Parent Class"
   ]
  },
  {
   "cell_type": "code",
   "execution_count": 68,
   "metadata": {},
   "outputs": [
    {
     "name": "stdout",
     "output_type": "stream",
     "text": [
      "Bark\n",
      "Make some generic sound\n",
      "9.8\n"
     ]
    }
   ],
   "source": [
    "#Creation of our Parent Class -- Animal\n",
    "class Animal():\n",
    "    acceleration = 9.8\n",
    "    \n",
    "    def __init__(self, name, species, legs=4):\n",
    "        self.name = name\n",
    "        self.species = species\n",
    "        self.legs = legs\n",
    "    \n",
    "    #Generic parent(animal) method -- NO OVERRIDE YET\n",
    "    def makeSound(self):\n",
    "        noise = 'Make some generic sound'\n",
    "        return noise\n",
    "        \n",
    "class Dog(Animal):\n",
    "    speed = 15\n",
    "    \n",
    "    def printInfo(self):\n",
    "        print(f\"The dog has {self.speed}mph in speed and {self.acceleration} in acceleration.\")\n",
    "\n",
    "class Mut(Dog):\n",
    "    color = 'black, brown and white'\n",
    "    \n",
    "    #overriding of the ANIMAL class __init__ method (by way of using the Dog Class)\n",
    "    def ___init__(self, name, species, eye_color, legs=4):\n",
    "        Dog.__init__(self, name, species, legs)\n",
    "        self.eye_color = eye_color\n",
    "        \n",
    "    #Override the makeSound method ()\n",
    "    def makeSound(self):\n",
    "        noise = 'Bark'\n",
    "        return noise\n",
    "\n",
    "basic_animal = Animal('Generic Animal Name', 'Generic Species')\n",
    "lassie = Dog('Lassie','dog')\n",
    "buddy = Mut('Buddy', 'Mut', 'green')\n",
    "\n",
    "print(buddy.makeSound())\n",
    "print(basic_animal.makeSound())\n",
    "print(buddy.acceleration)\n",
    "\n",
    "\n",
    "    "
   ]
  },
  {
   "cell_type": "markdown",
   "metadata": {},
   "source": [
    "##### The \\__init\\__() Method for a Child Class - super()"
   ]
  },
  {
   "cell_type": "code",
   "execution_count": 77,
   "metadata": {
    "scrolled": true
   },
   "outputs": [
    {
     "name": "stdout",
     "output_type": "stream",
     "text": [
      "Bark\n",
      "Make some generic sound\n",
      "9.8\n",
      "4\n"
     ]
    }
   ],
   "source": [
    "#Creation of our Parent Class -- Animal\n",
    "class Animal():\n",
    "    acceleration = 9.8\n",
    "    \n",
    "    def __init__(self, name, species, legs=4):\n",
    "        self.name = name\n",
    "        self.species = species\n",
    "        self.legs = legs\n",
    "    \n",
    "    #Generic parent(animal) method -- NO OVERRIDE YET\n",
    "    def makeSound(self):\n",
    "        noise = 'Make some generic sound'\n",
    "        return noise\n",
    "        \n",
    "class Dog(Animal):\n",
    "    speed = 15\n",
    "    \n",
    "    def printInfo(self):\n",
    "        print(f\"The dog has {self.speed}mph in speed and {self.acceleration} in acceleration.\")\n",
    "\n",
    "class Mut(Dog):\n",
    "    color = 'black, brown and white'\n",
    "    \n",
    "    #overriding of the ANIMAL class __init__ method (by way of using the Dog Class)\n",
    "    def ___init__(self, name, species, eye_color, legs=4):\n",
    "        super().__init__(name, species, legs)\n",
    "        self.eye_color = eye_color\n",
    "        \n",
    "    #Override the makeSound method ()\n",
    "    def makeSound(self):\n",
    "        noise = 'Bark'\n",
    "        return noise\n",
    "\n",
    "basic_animal = Animal('Generic Animal Name', 'Generic Species')\n",
    "lassie = Dog('Lassie','dog')\n",
    "buddy = Mut('Buddy', 'Mut', 4)\n",
    "\n",
    "print(buddy.makeSound())\n",
    "print(basic_animal.makeSound())\n",
    "print(buddy.acceleration)\n",
    "print(buddy.legs)\n"
   ]
  },
  {
   "cell_type": "markdown",
   "metadata": {},
   "source": [
    "##### Defining Attributes and Methods for the Child Class"
   ]
  },
  {
   "cell_type": "code",
   "execution_count": null,
   "metadata": {},
   "outputs": [],
   "source": [
    "# See Above"
   ]
  },
  {
   "cell_type": "markdown",
   "metadata": {},
   "source": [
    "##### Method Overriding"
   ]
  },
  {
   "cell_type": "code",
   "execution_count": null,
   "metadata": {},
   "outputs": [],
   "source": [
    "# See Above"
   ]
  },
  {
   "cell_type": "markdown",
   "metadata": {},
   "source": [
    "## Classes as Attributes <br>\n",
    "<p>Classes can also be used as attributes within another class. This is useful in situations where you need to keep variables locally stored, instead of globally stored.</p>"
   ]
  },
  {
   "cell_type": "code",
   "execution_count": 84,
   "metadata": {},
   "outputs": [
    {
     "name": "stdout",
     "output_type": "stream",
     "text": [
      "20\n",
      "2021 Tesla Model X 20\n",
      "2021 Tesla Model X went around the block, it now has 15 cells\n"
     ]
    }
   ],
   "source": [
    "class Battery():\n",
    "    volts = 7.8\n",
    "    \n",
    "    def __init__(self,cells):\n",
    "        self.cells = cells\n",
    "        \n",
    "class Car():\n",
    "    def __init__(self, year, make, model, battery):\n",
    "        self.year = year\n",
    "        self.make = make\n",
    "        self.model = model\n",
    "        self.battery = battery\n",
    "    def printInfo(self):\n",
    "        return f\"{self.year} {self.make} {self.model} {self.battery.cells}\"\n",
    "    def circleBlock(self):\n",
    "        self.battery.cells -= 5\n",
    "        return f\"{self.year} {self.make} {self.model} went around the block, it now has {self.battery.cells} cells\"\n",
    "    \n",
    "battery = Battery(20)\n",
    "print(battery.cells)\n",
    "\n",
    "tesla = Car(2021, 'Tesla', 'Model X', battery)\n",
    "\n",
    "print(tesla.printInfo())\n",
    "print(tesla.circleBlock())"
   ]
  },
  {
   "cell_type": "markdown",
   "metadata": {},
   "source": [
    "# Exercises"
   ]
  },
  {
   "cell_type": "markdown",
   "metadata": {},
   "source": [
    "### Exercise 1 - Turn the shopping cart program from yesterday into an object-oriented program\n",
    "\n",
    "The comments in the cell below are there as a guide for thinking about the problem. However, if you feel a different way is best for you and your own thought process, please do what feels best for you by all means."
   ]
  },
  {
   "cell_type": "code",
   "execution_count": 90,
   "metadata": {},
   "outputs": [
    {
     "name": "stdout",
     "output_type": "stream",
     "text": [
      "Welcome to your shopping cart!\n",
      "What would you like to do?(Add/Remove/Edit/Show/Quit): show\n",
      "Your cart is current empty.\n",
      "What would you like to do?(Add/Remove/Edit/Show/Quit): add\n",
      "Enter Item to Add: tomato\n",
      "Enter Quantity: 3\n",
      "What would you like to do?(Add/Remove/Edit/Show/Quit): add\n",
      "Enter Item to Add: onion\n",
      "Enter Quantity: 4\n",
      "What would you like to do?(Add/Remove/Edit/Show/Quit): add\n",
      "Enter Item to Add: cheese\n",
      "Enter Quantity: 6\n",
      "What would you like to do?(Add/Remove/Edit/Show/Quit): add\n",
      "Enter Item to Add: lettuce\n",
      "Enter Quantity: 1\n",
      "What would you like to do?(Add/Remove/Edit/Show/Quit): edit\n",
      "Here is your current cart:\n",
      "|Tomato-- Qty: 3\n",
      "|Onion-- Qty: 4\n",
      "|Cheese-- Qty: 6\n",
      "|Lettuce-- Qty: 1\n",
      "____________\n",
      "What item would you like to change the quantity of?: cheese\n",
      "New Quantity (enter 0 to delete): 3\n",
      "What would you like to do?(Add/Remove/Edit/Show/Quit): show\n",
      "|Tomato-- Qty: 3\n",
      "|Onion-- Qty: 4\n",
      "|Cheese-- Qty: 3\n",
      "|Lettuce-- Qty: 1\n",
      "What would you like to do?(Add/Remove/Edit/Show/Quit): remove\n",
      "Here is your current cart:\n",
      "|Tomato-- Qty: 3\n",
      "|Onion-- Qty: 4\n",
      "|Cheese-- Qty: 3\n",
      "|Lettuce-- Qty: 1\n",
      "____________\n",
      "What item would you like to remove?: oe\n",
      "Sorry, we didn't find an item with that name.\n",
      "What would you like to do?(Add/Remove/Edit/Show/Quit): remove\n",
      "Here is your current cart:\n",
      "|Tomato-- Qty: 3\n",
      "|Onion-- Qty: 4\n",
      "|Cheese-- Qty: 3\n",
      "|Lettuce-- Qty: 1\n",
      "____________\n",
      "What item would you like to remove?: onion\n",
      "Successfully removed: onion\n",
      "What would you like to do?(Add/Remove/Edit/Show/Quit): show\n",
      "|Tomato-- Qty: 3\n",
      "|Cheese-- Qty: 3\n",
      "|Lettuce-- Qty: 1\n",
      "What would you like to do?(Add/Remove/Edit/Show/Quit): quit\n",
      ". .Pulling final copy of cart. .\n",
      "Here is your list:\n",
      "|Tomato-- Qty: 3\n",
      "|Cheese-- Qty: 3\n",
      "|Lettuce-- Qty: 1\n",
      "Thanks for using my shopping cart program!\n"
     ]
    }
   ],
   "source": [
    "# Create a class called ShoppingCart that retains items and has methods to add, remove, and show\n",
    "\n",
    "class ShoppingCart():\n",
    "    \"\"\"\n",
    "    The ShoppingCart class will keep track of someone's shopping list\n",
    "    Attributes for the class:\n",
    "    -items: expect dictionary, so that it can track item-name and quantity\n",
    "    \"\"\"\n",
    "\n",
    "    def __init__(self, items):\n",
    "        self.items = items\n",
    "\n",
    "    #Method that shows the shopping list items\n",
    "    def showCartContents(self):\n",
    "        if len(self.items) == 0:\n",
    "            print(\"Your cart is current empty.\")\n",
    "        else:\n",
    "            for key, value in self.items.items():\n",
    "                print(f\"|{key.title()}-- Qty: {value}\")\n",
    "    \n",
    "    #Method to add item to cart, will also prompt for quantity #\n",
    "    def addShoppingCart(self):\n",
    "        cart_item = (input(\"Enter Item to Add: \")).lower()\n",
    "        #checks to see if the item the user input to add is already present, if so prompts them and returns to initial input prompt\n",
    "        if cart_item in self.items:\n",
    "            print(f\"You already have {cart_item} in your cart, maybe try 'Edit' option?\")\n",
    "        else:\n",
    "            quantity = input(\"Enter Quantity: \")\n",
    "            self.items[cart_item] = quantity\n",
    "    \n",
    "    #Method to remove item from cart\n",
    "    def removefromCart(self):\n",
    "        print(f\"Here is your current cart:\")\n",
    "        for key, value in self.items.items():\n",
    "            print(f\"|{key.title()}-- Qty: {value}\")\n",
    "        print(\"____________\")\n",
    "        remove_item = (input(\"What item would you like to remove?: \")).lower()\n",
    "        if remove_item in self.items:\n",
    "            del self.items[remove_item]\n",
    "            print(f\"Successfully removed: {remove_item}\")\n",
    "        else:\n",
    "            print(\"Sorry, we didn't find an item with that name.\")\n",
    "    \n",
    "    #Method that allows user to edit pre-existing entries in cart (update quantity)\n",
    "    def editCart(self):\n",
    "        print(f\"Here is your current cart:\")\n",
    "        for key, value in self.items.items():\n",
    "            print(f\"|{key.title()}-- Qty: {value}\")\n",
    "        print(\"____________\")\n",
    "        item_to_change = (input(\"What item would you like to change the quantity of?: \")).lower()\n",
    "        #checks if item user is trying to edit is in cart/dictionary\n",
    "        if item_to_change in self.items:\n",
    "        #checks if quantity they want to change to is greater than 0, if 0 it will REMOVE item from dict/cart\n",
    "        #if it is greater than zero, updates qty for corresponding item\n",
    "            quantity_change = input(\"New Quantity (enter 0 to delete): \")\n",
    "            if int(quantity_change) > 0:\n",
    "                self.items[item_to_change] = quantity_change\n",
    "            elif int(quantity_change) == 0:\n",
    "                del self.items[item_to_change]\n",
    "    \n",
    "\n",
    "first_cart = ShoppingCart({})\n",
    "\n",
    "def run_cart(cart):\n",
    "    print(\"Welcome to your shopping cart!\")\n",
    "    while True:\n",
    "        response = input(\"What would you like to do?(Add/Remove/Edit/Show/Quit): \")\n",
    "\n",
    "        if response.lower() == 'quit':\n",
    "            print(\". .Pulling final copy of cart. .\")\n",
    "            print(\"Here is your list:\")\n",
    "            cart.showCartContents()\n",
    "            print(\"Thanks for using my shopping cart program!\")\n",
    "            break\n",
    "        elif response.lower() == 'add':\n",
    "            cart.addShoppingCart()\n",
    "        elif response.lower() == 'show':\n",
    "            cart.showCartContents()\n",
    "        elif response.lower() == 'remove':\n",
    "            cart.removefromCart()\n",
    "        elif response.lower() == 'edit':\n",
    "            cart.editCart()\n",
    "        else:\n",
    "            print(\"Sorry, input not recognized - please input valid choice.\")\n",
    "\n",
    "run_cart(first_cart)\n"
   ]
  },
  {
   "cell_type": "markdown",
   "metadata": {},
   "source": [
    "### Exercise 2 - Write a Python class which has two methods get_String and print_String. get_String accept a string from the user and print_String print the string in upper case"
   ]
  },
  {
   "cell_type": "code",
   "execution_count": 88,
   "metadata": {},
   "outputs": [
    {
     "name": "stdout",
     "output_type": "stream",
     "text": [
      "Please enter a string for me to change to upper case: this is the string that will go upper case\n",
      "THIS IS THE STRING THAT WILL GO UPPER CASE\n"
     ]
    }
   ],
   "source": [
    "class StringClass():\n",
    "    def __init__(self, input_string):\n",
    "        self.input_string = input_string\n",
    "\n",
    "    def get_String(self):\n",
    "        self.input_string = input(\"Please enter a string for me to change to upper case: \")\n",
    "\n",
    "    def print_String(self):\n",
    "        print(self.input_string.upper())\n",
    "\n",
    "test_string = StringClass(\"\")\n",
    "\n",
    "\n",
    "test_string.get_String()\n",
    "\n",
    "test_string.print_String()"
   ]
  }
 ],
 "metadata": {
  "kernelspec": {
   "display_name": "Python 3",
   "language": "python",
   "name": "python3"
  },
  "language_info": {
   "codemirror_mode": {
    "name": "ipython",
    "version": 3
   },
   "file_extension": ".py",
   "mimetype": "text/x-python",
   "name": "python",
   "nbconvert_exporter": "python",
   "pygments_lexer": "ipython3",
   "version": "3.8.5"
  }
 },
 "nbformat": 4,
 "nbformat_minor": 2
}
