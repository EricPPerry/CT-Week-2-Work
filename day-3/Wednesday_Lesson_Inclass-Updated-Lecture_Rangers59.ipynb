{
 "cells": [
  {
   "cell_type": "markdown",
   "metadata": {},
   "source": [
    "# Data Collections 2 (Dictionaries, Sets) and Importing Modules"
   ]
  },
  {
   "cell_type": "markdown",
   "metadata": {},
   "source": [
    "## Tasks Today:\n",
    "\n",
    "1) Dictionary <br>\n",
    " &nbsp;&nbsp;&nbsp;&nbsp; a) Declaring (key, value) <br>\n",
    " &nbsp;&nbsp;&nbsp;&nbsp; b) Accessing Values <br>\n",
    " &nbsp;&nbsp;&nbsp;&nbsp; ------ Exercise #1 - Print the eye color of each person in a double nested dict <br>\n",
    " &nbsp;&nbsp;&nbsp;&nbsp; c) Adding New Pairs <br>\n",
    " &nbsp;&nbsp;&nbsp;&nbsp; d) Modifying Values <br>\n",
    " &nbsp;&nbsp;&nbsp;&nbsp; e) Removing Key, Value Pairs <br>\n",
    " &nbsp;&nbsp;&nbsp;&nbsp; f) Looping a Dictionary <br>\n",
    " &nbsp;&nbsp;&nbsp;&nbsp; g) Looping Only Keys <br>\n",
    " &nbsp;&nbsp;&nbsp;&nbsp; h) Looping Only Values <br>\n",
    " &nbsp;&nbsp;&nbsp;&nbsp; ------ Exercise #2 - Create a Function that Prints All Key Value Pairs within a print .format()  <br>\n",
    " &nbsp;&nbsp;&nbsp;&nbsp; i) sorted() <br>\n",
    " &nbsp;&nbsp;&nbsp;&nbsp; j) Lists with Dictionaries <br>\n",
    " &nbsp;&nbsp;&nbsp;&nbsp; k) Dictionaries with Lists <br>\n",
    " &nbsp;&nbsp;&nbsp;&nbsp; l) Dictionaries with Dictionaries <br>\n",
    " &nbsp;&nbsp;&nbsp;&nbsp; ------ Exercise #3 - Write a Function that asks someone's name and address, and then stores that into a dictionary, which prints all names and addresses after they're done putting information in...  <br>\n",
    "2) Dictionaries vs. Lists (over time)<br>\n",
    "3) Set <br>\n",
    " &nbsp;&nbsp;&nbsp;&nbsp; a) Declaring <br>\n",
    " &nbsp;&nbsp;&nbsp;&nbsp; b) .add() <br>\n",
    " &nbsp;&nbsp;&nbsp;&nbsp; c) .remove() <br>\n",
    " &nbsp;&nbsp;&nbsp;&nbsp; d) .union() <br>\n",
    " &nbsp;&nbsp;&nbsp;&nbsp; e) .intersection() <br>\n",
    " &nbsp;&nbsp;&nbsp;&nbsp; f) .difference() <br>\n",
    " &nbsp;&nbsp;&nbsp;&nbsp; g) Frozen Set <br>\n",
    "4) Modules <br>\n",
    " &nbsp;&nbsp;&nbsp;&nbsp; a) Importing Entire Modules <br>\n",
    " &nbsp;&nbsp;&nbsp;&nbsp; b) Importing Methods Only <br>\n",
    " &nbsp;&nbsp;&nbsp;&nbsp; c) Using the 'as' Keyword <br>\n",
    " &nbsp;&nbsp;&nbsp;&nbsp; d) Creating a Module <br>\n",
    "5) Exercises <br>\n",
    " &nbsp;&nbsp;&nbsp;&nbsp; a) Build a Shopping Cart <br>\n",
    " &nbsp;&nbsp;&nbsp;&nbsp; b) Create Your Own Module <br>"
   ]
  },
  {
   "cell_type": "markdown",
   "metadata": {},
   "source": [
    "## Dictionary <br>\n",
    "<p>A collection of data with 'key:value' pairs. Dictionaries are ordered as of Python 3.6</p>"
   ]
  },
  {
   "cell_type": "markdown",
   "metadata": {},
   "source": [
    "##### Declaring (key, value)"
   ]
  },
  {
   "cell_type": "code",
   "execution_count": 1,
   "metadata": {},
   "outputs": [
    {
     "name": "stdout",
     "output_type": "stream",
     "text": [
      "{'dave': '2554 Main Street', 'sean': '522 1st Street', 0: 'this is a value for the key'}\n"
     ]
    }
   ],
   "source": [
    "#keys should always be unique, can use numbers or strings as keys \n",
    "\n",
    "#creating a blank dict:\n",
    "d_1 = {}\n",
    "#or\n",
    "d_2 = dict()\n",
    "#or\n",
    "d_3 = {\n",
    "    'dave': '2554 Main Street',\n",
    "    'sean': '522 1st Street',\n",
    "    0: 'this is a value for the key'\n",
    "}\n",
    "    \n",
    "print(d_3)"
   ]
  },
  {
   "cell_type": "markdown",
   "metadata": {},
   "source": [
    "##### Accessing Values"
   ]
  },
  {
   "cell_type": "code",
   "execution_count": 2,
   "metadata": {},
   "outputs": [
    {
     "name": "stdout",
     "output_type": "stream",
     "text": [
      "2554 Main Street\n"
     ]
    }
   ],
   "source": [
    "#dict[key]\n",
    "print(d_3['dave'])"
   ]
  },
  {
   "cell_type": "markdown",
   "metadata": {},
   "source": [
    "## In-Class Exercise #1 - Print a formatted statement from the dictionary below <br>\n",
    "<p>The output should be '2018 Chevrolet Silverado'</p>"
   ]
  },
  {
   "cell_type": "code",
   "execution_count": 5,
   "metadata": {},
   "outputs": [
    {
     "name": "stdout",
     "output_type": "stream",
     "text": [
      "My favorite car is the 2018 Chevrolet Silverado!\n"
     ]
    }
   ],
   "source": [
    "# use the dict below\n",
    "truck = {\n",
    "    'year': 2018,\n",
    "    'make': 'Chevrolet',\n",
    "    'model': 'Silverado'\n",
    "}\n",
    "\n",
    "#print 'My favorite car is the 2018 Chevrolet Silverado'\n",
    "\n",
    "print(f\"My favorite car is the {truck['year']} {truck['make']} {truck['model']}!\")"
   ]
  },
  {
   "cell_type": "markdown",
   "metadata": {},
   "source": [
    "##### Adding New Pairs"
   ]
  },
  {
   "cell_type": "code",
   "execution_count": 7,
   "metadata": {},
   "outputs": [
    {
     "name": "stdout",
     "output_type": "stream",
     "text": [
      "{'dave': '2554 Main Street', 'sean': '522 1st Street', 0: 'this is a value for the key', 'bob': '151 Main Street'}\n"
     ]
    }
   ],
   "source": [
    "#dict[key] = value\n",
    "d_3['bob'] = '151 Main Street'\n",
    "print(d_3)"
   ]
  },
  {
   "cell_type": "markdown",
   "metadata": {},
   "source": [
    "##### Modifying Values"
   ]
  },
  {
   "cell_type": "code",
   "execution_count": 8,
   "metadata": {},
   "outputs": [
    {
     "name": "stdout",
     "output_type": "stream",
     "text": [
      "{'dave': '2554 Main Street', 'sean': '522 1st Street', 0: 'this is a value for the key', 'bob': '151 Main Street Chicago, IL'}\n"
     ]
    }
   ],
   "source": [
    "#dictionary[key] = newvalue\n",
    "\n",
    "placeholder = d_3['bob']\n",
    "\n",
    "d_3['bob'] = placeholder + \" Chicago, IL\"\n",
    "\n",
    "print(d_3)"
   ]
  },
  {
   "cell_type": "markdown",
   "metadata": {},
   "source": [
    "##### Removing Key, Value Pairs"
   ]
  },
  {
   "cell_type": "code",
   "execution_count": 9,
   "metadata": {},
   "outputs": [
    {
     "name": "stdout",
     "output_type": "stream",
     "text": [
      "{'dave': '2554 Main Street', 'sean': '522 1st Street', 0: 'this is a value for the key'}\n"
     ]
    }
   ],
   "source": [
    "#del dictionary[key of pair]\n",
    "\n",
    "del d_3['bob']\n",
    "\n",
    "print(d_3)"
   ]
  },
  {
   "cell_type": "markdown",
   "metadata": {},
   "source": [
    "##### Looping a Dictionary"
   ]
  },
  {
   "cell_type": "code",
   "execution_count": 10,
   "metadata": {},
   "outputs": [
    {
     "name": "stdout",
     "output_type": "stream",
     "text": [
      "dave 2554 Main Street\n",
      "sean 522 1st Street\n",
      "0 this is a value for the key\n"
     ]
    }
   ],
   "source": [
    "# .items()\n",
    "# a, b, c = 1, 2, 3\n",
    "# print(a)\n",
    "# print(b)\n",
    "# print(c)\n",
    "\n",
    "#looping over a dictionary using .items():\n",
    "for key, value in d_3.items():\n",
    "    print(key,value)\n"
   ]
  },
  {
   "cell_type": "markdown",
   "metadata": {},
   "source": [
    "##### Looping Only Keys"
   ]
  },
  {
   "cell_type": "code",
   "execution_count": 12,
   "metadata": {},
   "outputs": [
    {
     "name": "stdout",
     "output_type": "stream",
     "text": [
      "dave\n",
      "sean\n",
      "0\n"
     ]
    }
   ],
   "source": [
    "# .keys()\n",
    "#for i in d_3:\n",
    "    #print(i)\n",
    "\n",
    "#correct way to access keys inside of dictionary\n",
    "for key in d_3.keys():\n",
    "    print(key)\n"
   ]
  },
  {
   "cell_type": "markdown",
   "metadata": {},
   "source": [
    "##### Looping Only Values"
   ]
  },
  {
   "cell_type": "code",
   "execution_count": 14,
   "metadata": {},
   "outputs": [
    {
     "name": "stdout",
     "output_type": "stream",
     "text": [
      "2554 Main Street\n",
      "522 1st Street\n",
      "this is a value for the key\n",
      "('dave', '2554 Main Street')\n",
      "('sean', '522 1st Street')\n",
      "(0, 'this is a value for the key')\n"
     ]
    }
   ],
   "source": [
    "# .values()\n",
    "\n",
    "for value in d_3.values():\n",
    "    print(value)\n",
    "\n",
    "for item in d_3.items():\n",
    "    print(item)"
   ]
  },
  {
   "cell_type": "markdown",
   "metadata": {},
   "source": [
    "## In-Class Exercise #2 - Create a Function that Prints All Key Value Pairs within a print .format() <br>\n",
    "<p><b>Output should be:</b><br>\n",
    "Max has blue eyes<br>\n",
    "Lilly has brown eyes<br>\n",
    "Barney has blue eyes<br>\n",
    "etc.\n",
    "</p>"
   ]
  },
  {
   "cell_type": "code",
   "execution_count": 16,
   "metadata": {},
   "outputs": [
    {
     "name": "stdout",
     "output_type": "stream",
     "text": [
      "Max has blue eyes.\n",
      "Lilly has brown eyes.\n",
      "Barney has blue eyes.\n",
      "Larney has brown eyes.\n",
      "Ted has purple eyes.\n"
     ]
    }
   ],
   "source": [
    "# use the dict below\n",
    "\n",
    "people = {\n",
    "    'Max': 'blue',\n",
    "    'Lilly': 'brown',\n",
    "    'Barney': 'blue',\n",
    "    'Larney': 'brown',\n",
    "    'Ted': 'purple'\n",
    "}\n",
    "\n",
    "\n",
    "def people_print(a_dict):\n",
    "    for key in a_dict.keys():\n",
    "        print(f\"{key} has {a_dict[key]} eyes.\")\n",
    "\n",
    "people_print(people)"
   ]
  },
  {
   "cell_type": "markdown",
   "metadata": {},
   "source": [
    "##### sorted()"
   ]
  },
  {
   "cell_type": "code",
   "execution_count": 18,
   "metadata": {},
   "outputs": [
    {
     "name": "stdout",
     "output_type": "stream",
     "text": [
      "[('Barney', 'blue'), ('Larney', 'brown'), ('Lilly', 'brown'), ('Max', 'blue'), ('Ted', 'purple')]\n"
     ]
    }
   ],
   "source": [
    "# sorts variables in order\n",
    "# sorted(dict.values()) or dict.keys() or dict.items()\n",
    "\n",
    "print(sorted(people.items()))\n"
   ]
  },
  {
   "cell_type": "markdown",
   "metadata": {},
   "source": [
    "##### List with Dictionaries"
   ]
  },
  {
   "cell_type": "code",
   "execution_count": 21,
   "metadata": {},
   "outputs": [
    {
     "name": "stdout",
     "output_type": "stream",
     "text": [
      "['Dave', 'Randy', 'Greg', {'Random_Guy': 'Robert', 'Random_Girl': 'Barbara'}]\n",
      "Barbara\n",
      "Random_Guy\n",
      "Random_Girl\n"
     ]
    }
   ],
   "source": [
    "names = [\"Dave\", \"Randy\", \"Greg\", {\"Random_Guy\":\"Robert\", \"Random_Girl\":\"Barbara\"}]\n",
    "\n",
    "print(names)\n",
    "\n",
    "print(names[3][\"Random_Girl\"])\n",
    "\n",
    "#Get all keys from nested dictionary in a list\n",
    "for key in names[3].keys():\n",
    "    print(key)"
   ]
  },
  {
   "cell_type": "markdown",
   "metadata": {},
   "source": [
    "##### Dictionaries with Lists"
   ]
  },
  {
   "cell_type": "code",
   "execution_count": 28,
   "metadata": {},
   "outputs": [
    {
     "name": "stdout",
     "output_type": "stream",
     "text": [
      "smith\n",
      "[54, 7, 1]\n"
     ]
    }
   ],
   "source": [
    "# be careful when using numbers as keys in dictionaries, don't confuse them with indexes\n",
    "random_data = {\n",
    "    'list1': [54,7,1],\n",
    "    '2': ['smith']\n",
    "}\n",
    "\n",
    "for key in random_data['2']:\n",
    "    print(key) #smith <--value corresponding to key:2 \n",
    "    \n",
    "print(random_data['2'][0])"
   ]
  },
  {
   "cell_type": "markdown",
   "metadata": {},
   "source": [
    "##### Dictionaries with Dictionaries"
   ]
  },
  {
   "cell_type": "code",
   "execution_count": 31,
   "metadata": {},
   "outputs": [
    {
     "name": "stdout",
     "output_type": "stream",
     "text": [
      "5.99\n",
      "3.99\n"
     ]
    }
   ],
   "source": [
    "# to get values, must traverse through keys\n",
    "\n",
    "food_dict = {\n",
    "    \"ice_cream\":{\n",
    "        \"Cho\": 2.99,\n",
    "        \"Va\": 2.99,\n",
    "        \"Oreo\": 5.99,\n",
    "    },\n",
    "    \"milk_shakes\":{\n",
    "        \"Small\": 3.99,\n",
    "        \"Medium\": 4.99,\n",
    "        \"Large\": 5.99\n",
    "    }\n",
    "}\n",
    "\n",
    "print(food_dict[\"ice_cream\"][\"Oreo\"])\n",
    "print(food_dict[\"milk_shakes\"][\"Small\"])\n"
   ]
  },
  {
   "cell_type": "markdown",
   "metadata": {},
   "source": [
    "## Dictionaries vs. Lists (over time) Example of RUNTIME\n",
    "### When inputting values in a Dictionary vs List"
   ]
  },
  {
   "cell_type": "code",
   "execution_count": 32,
   "metadata": {},
   "outputs": [],
   "source": [
    "import time\n",
    "\n",
    "\n",
    "# generate fake dictionary\n",
    "d = {}\n",
    "\n",
    "for i in range(10000000):\n",
    "    d[i] = 'value'\n",
    "    \n",
    "\n",
    "# generate fake list\n",
    "big_list = [x for x in range(10000000)]"
   ]
  },
  {
   "cell_type": "code",
   "execution_count": 34,
   "metadata": {},
   "outputs": [
    {
     "name": "stdout",
     "output_type": "stream",
     "text": [
      "value\n",
      "Elapsed time for dictionary: 0.0\n",
      "9999999\n",
      "Elapsed time for list: 0.5678906440734863\n"
     ]
    }
   ],
   "source": [
    "# tracking time for dictionary\n",
    "start_time = time.time()\n",
    "\n",
    "print(d[9999999])\n",
    "\n",
    "end_time = time.time() - start_time\n",
    "\n",
    "print('Elapsed time for dictionary: {}'.format(end_time))\n",
    "\n",
    "\n",
    "# tracking time for list\n",
    "start_time = time.time()\n",
    "\n",
    "for i in range(len(big_list)):\n",
    "    if i == 9999999:\n",
    "        print(i)\n",
    "\n",
    "end_time = time.time() - start_time\n",
    "\n",
    "print('Elapsed time for list: {}'.format(end_time))"
   ]
  },
  {
   "cell_type": "markdown",
   "metadata": {},
   "source": [
    "## Exercise #3 - Write a Function that asks someone's name and address, and then stores that into a dictionary, and continues to do so until they choose to 'quit'. Once they quit, the program should print all names and addresses. <br>\n",
    "<p>\n",
    "<b>Proper steps:</b><br>\n",
    "step 1: write a function that takes in information and stores it in a dictionary<br>\n",
    "step 2: define an empty dictionary to work with<br>\n",
    "step 3: create our loop, which asks the user for information until they quit<br>\n",
    "step 4: ask for the information, and store it into variables<br>\n",
    "step 5: check if the user types quit<br>\n",
    "step 5a: print out all information<br>\n",
    "step 5b: break out of the loop<br>\n",
    "step 6: if they didn't quit, add the information to the dictionary<br>\n",
    "step 7: invoke the function by calling it\n",
    "</p>"
   ]
  },
  {
   "cell_type": "code",
   "execution_count": 48,
   "metadata": {},
   "outputs": [
    {
     "name": "stdout",
     "output_type": "stream",
     "text": [
      "Enter Name: bob\n",
      "Enter Address: 12 main street\n",
      "Enter Name: eric\n",
      "Enter Address: 19 oak ave\n",
      "Enter Name: quit\n",
      "{'bob': '12 main street', 'eric': '19 oak ave'}\n"
     ]
    }
   ],
   "source": [
    "from IPython.display import clear_output\n",
    "\n",
    "def name_input():\n",
    "    rolodex = {}\n",
    "    while True:\n",
    "        name = input(\"Enter Name: \")\n",
    "        \n",
    "        if name.lower() == 'quit':\n",
    "            break\n",
    "        address = input(\"Enter Address: \")\n",
    "        rolodex[name] = address\n",
    "    print(rolodex)\n",
    "\n",
    "name_input()      "
   ]
  },
  {
   "cell_type": "markdown",
   "metadata": {},
   "source": [
    "## Set <br>\n",
    "<p>A Set is an unordered collection data type that is iterable (loop), mutable, and has no duplicate elements.<br>Major advantage is that it is highly optimized in checking if something is in the set, as opposed to checking if something is in a list.</p>"
   ]
  },
  {
   "cell_type": "markdown",
   "metadata": {},
   "source": [
    "##### Declaring"
   ]
  },
  {
   "cell_type": "code",
   "execution_count": 58,
   "metadata": {},
   "outputs": [
    {
     "name": "stdout",
     "output_type": "stream",
     "text": [
      "{1, 2, 4, 6}\n"
     ]
    }
   ],
   "source": [
    "# set() or {}\n",
    "# no order {3, 2, 1} outputs as {1, 2, 3}\n",
    "nums = {4,1,6,2,4}\n",
    "\n",
    "print(nums)"
   ]
  },
  {
   "cell_type": "markdown",
   "metadata": {},
   "source": [
    "##### .add()"
   ]
  },
  {
   "cell_type": "code",
   "execution_count": 59,
   "metadata": {},
   "outputs": [
    {
     "name": "stdout",
     "output_type": "stream",
     "text": [
      "{1, 2, 4, 6, 56}\n"
     ]
    }
   ],
   "source": [
    "# set.add()\n",
    "nums.add(56)\n",
    "print(nums)"
   ]
  },
  {
   "cell_type": "markdown",
   "metadata": {},
   "source": [
    "##### .remove()"
   ]
  },
  {
   "cell_type": "code",
   "execution_count": 52,
   "metadata": {},
   "outputs": [
    {
     "name": "stdout",
     "output_type": "stream",
     "text": [
      "{1, 2, 4, 6}\n"
     ]
    }
   ],
   "source": [
    "# removes by value\n",
    "# set.remove()\n",
    "# nums.remove(56)\n",
    "nums.remove(56)\n",
    "print(nums)\n"
   ]
  },
  {
   "cell_type": "markdown",
   "metadata": {},
   "source": [
    "##### .union() "
   ]
  },
  {
   "cell_type": "code",
   "execution_count": 55,
   "metadata": {},
   "outputs": [
    {
     "name": "stdout",
     "output_type": "stream",
     "text": [
      "{1, 2, 3, 4, 5, 6}\n",
      "{1, 2, 3, 4, 5, 6}\n"
     ]
    }
   ],
   "source": [
    "# Returns a union of two sets, can also use '|' or set.union(set)\n",
    "# joins all numbers, gets rid of duplicates\n",
    "s1 = {1,2,3,4}\n",
    "s2 = {3,4,5,6}\n",
    "\n",
    "s3 = s1.union(s2)\n",
    "s4 = s1 | s2\n",
    "\n",
    "print(s3)\n",
    "print(s4)"
   ]
  },
  {
   "cell_type": "markdown",
   "metadata": {},
   "source": [
    "##### .intersection()"
   ]
  },
  {
   "cell_type": "code",
   "execution_count": 61,
   "metadata": {},
   "outputs": [
    {
     "name": "stdout",
     "output_type": "stream",
     "text": [
      "{3, 4}\n",
      "{3, 4}\n"
     ]
    }
   ],
   "source": [
    "# Returns an intersection of two sets, can also use '&'\n",
    "# only takes similar elements from both sets\n",
    "s5 = s1 & s2\n",
    "print(s5)\n",
    "s6 = s1.intersection(s2)\n",
    "print(s6)\n"
   ]
  },
  {
   "cell_type": "markdown",
   "metadata": {},
   "source": [
    "##### .difference()"
   ]
  },
  {
   "cell_type": "code",
   "execution_count": 62,
   "metadata": {},
   "outputs": [
    {
     "name": "stdout",
     "output_type": "stream",
     "text": [
      "{1, 2, 3, 4}\n",
      "{3, 4, 5, 6}\n",
      "{5, 6}\n",
      "{1, 2}\n"
     ]
    }
   ],
   "source": [
    "# Returns a set containing all the elements of invoking set that are not in the second set, can also use '-'\n",
    "# only takes values from the first set that are not in the second set\n",
    "# order matters\n",
    "\n",
    "s7 = s2 - s1\n",
    "#OR\n",
    "s8 = s1.difference(s2)\n",
    "\n",
    "print(s1)\n",
    "print(s2)\n",
    "\n",
    "print(s7)\n",
    "print(s8)\n"
   ]
  },
  {
   "cell_type": "markdown",
   "metadata": {},
   "source": [
    "##### .clear()"
   ]
  },
  {
   "cell_type": "code",
   "execution_count": 63,
   "metadata": {},
   "outputs": [
    {
     "name": "stdout",
     "output_type": "stream",
     "text": [
      "set()\n"
     ]
    }
   ],
   "source": [
    "# Empties the whole set\n",
    "# set.clear()\n",
    "s8.clear()\n",
    "print(s8)"
   ]
  },
  {
   "cell_type": "markdown",
   "metadata": {},
   "source": [
    "##### Frozenset <br>\n",
    "<p>Frozen sets are immutable objects that only support methods and operators that produce a result without affecting the frozen set or sets to which they are applied.</p><br><b>Unique & Immutable</b>"
   ]
  },
  {
   "cell_type": "code",
   "execution_count": 64,
   "metadata": {},
   "outputs": [
    {
     "name": "stdout",
     "output_type": "stream",
     "text": [
      "frozenset({1, 2, 3, 4, 5, 6})\n"
     ]
    }
   ],
   "source": [
    "# frozenset([])\n",
    "my_frozen_set = frozenset(s3)\n",
    "\n",
    "print(my_frozen_set)\n",
    "\n"
   ]
  },
  {
   "cell_type": "markdown",
   "metadata": {},
   "source": [
    "## Modules"
   ]
  },
  {
   "cell_type": "markdown",
   "metadata": {},
   "source": [
    "##### Importing Entire Modules"
   ]
  },
  {
   "cell_type": "code",
   "execution_count": 68,
   "metadata": {},
   "outputs": [
    {
     "name": "stdout",
     "output_type": "stream",
     "text": [
      "3.141592653589793\n"
     ]
    }
   ],
   "source": [
    "# import or from 'xxx' import *\n",
    "# import math\n",
    "\n",
    "import math\n",
    "print(math.pi)"
   ]
  },
  {
   "cell_type": "markdown",
   "metadata": {},
   "source": [
    "##### Importing Methods Only"
   ]
  },
  {
   "cell_type": "code",
   "execution_count": 69,
   "metadata": {},
   "outputs": [
    {
     "name": "stdout",
     "output_type": "stream",
     "text": [
      "3.141592653589793\n"
     ]
    }
   ],
   "source": [
    "# from 'xxx' import 'xxx'\n",
    "# from math import floor\n",
    "from math import floor,pi\n",
    "print(math.pi)\n",
    "\n"
   ]
  },
  {
   "cell_type": "markdown",
   "metadata": {},
   "source": [
    "##### Using the 'as' Keyword"
   ]
  },
  {
   "cell_type": "code",
   "execution_count": 71,
   "metadata": {},
   "outputs": [
    {
     "name": "stdout",
     "output_type": "stream",
     "text": [
      "3.141592653589793\n",
      "3\n"
     ]
    }
   ],
   "source": [
    "# from 'xxx' import 'xxx' as 'xxx' or import 'xxx' as 'xxx'\n",
    "# from math import floor as f\n",
    "from math import floor as f, pi as p\n",
    "\n",
    "print(p)\n",
    "print(f(p))\n"
   ]
  },
  {
   "cell_type": "markdown",
   "metadata": {},
   "source": [
    "##### Creating a Module"
   ]
  },
  {
   "cell_type": "code",
   "execution_count": 74,
   "metadata": {},
   "outputs": [
    {
     "name": "stdout",
     "output_type": "stream",
     "text": [
      "Hello Mr/Ms Terrell...we've been waiting for you!\n"
     ]
    }
   ],
   "source": [
    "import module\n",
    "\n",
    "module.printName('Terrell')"
   ]
  },
  {
   "cell_type": "markdown",
   "metadata": {},
   "source": [
    "# Exercises"
   ]
  },
  {
   "cell_type": "markdown",
   "metadata": {},
   "source": [
    "### 1) Build a Shopping Cart <br>\n",
    "<p><b>You can use either lists or dictionaries. The program should have the following capabilities:</b><br><br>\n",
    "1) Takes in input <br>\n",
    "2) Stores user input into a dictionary or list <br>\n",
    "3) The User can add or delete items <br>\n",
    "4) The User can see current shopping list <br>\n",
    "5) The program Loops until user 'quits' <br>\n",
    "6) Upon quiting the program, print out all items in the user's list <br>\n",
    "</p>"
   ]
  },
  {
   "cell_type": "code",
   "execution_count": 118,
   "metadata": {},
   "outputs": [
    {
     "name": "stdout",
     "output_type": "stream",
     "text": [
      "Hello and welcome to your shopping cart!\n",
      "What do you want to do next?(Show/Add/Edit/Remove or Quit): add\n",
      "Enter Item to Add: aples\n",
      "Enter Quantity: 10\n",
      "Add another?(Y/N): n\n",
      "What do you want to do next?(Show/Add/Edit/Remove or Quit): remove\n",
      "Here is your current cart:\n",
      "____________\n",
      "|Aples-- Qty: 10\n",
      "____________\n",
      "What item would you like to remove?: aples\n",
      "What do you want to do next?(Show/Add/Edit/Remove or Quit): show\n",
      "Your cart is currently empty!\n",
      "What do you want to do next?(Show/Add/Edit/Remove or Quit): add\n",
      "Enter Item to Add: apples\n",
      "Enter Quantity: 10\n",
      "Add another?(Y/N): y\n",
      "Enter Item to Add: plums\n",
      "Enter Quantity: 16\n",
      "Add another?(Y/N): n\n",
      "What do you want to do next?(Show/Add/Edit/Remove or Quit): add\n",
      "Enter Item to Add: apples\n",
      "You already have add in your cart, maybe try 'Edit' option?\n",
      "What do you want to do next?(Show/Add/Edit/Remove or Quit): edit\n",
      "Here is your current cart:\n",
      "____________\n",
      "|Apples-- Qty: 10\n",
      "|Plums-- Qty: 16\n",
      "____________\n",
      "What item would you like to change the quantity of?: plums\n",
      "New Quantity (enter 0 to delete): 10\n",
      "What do you want to do next?(Show/Add/Edit/Remove or Quit): show\n",
      "Here is your current cart:\n",
      "____________\n",
      "|Apples -- Qty: 10\n",
      "|Plums -- Qty: 10\n",
      "____________\n",
      "What do you want to do next?(Show/Add/Edit/Remove or Quit): edit\n",
      "Here is your current cart:\n",
      "____________\n",
      "|Apples-- Qty: 10\n",
      "|Plums-- Qty: 10\n",
      "____________\n",
      "What item would you like to change the quantity of?: oranges\n",
      "Sorry, we did not find that item in your cart.\n",
      "What do you want to do next?(Show/Add/Edit/Remove or Quit): edit\n",
      "Here is your current cart:\n",
      "____________\n",
      "|Apples-- Qty: 10\n",
      "|Plums-- Qty: 10\n",
      "____________\n",
      "What item would you like to change the quantity of?: apples\n",
      "New Quantity (enter 0 to delete): 0\n",
      "What do you want to do next?(Show/Add/Edit/Remove or Quit): show\n",
      "Here is your current cart:\n",
      "____________\n",
      "|Plums -- Qty: 10\n",
      "____________\n",
      "What do you want to do next?(Show/Add/Edit/Remove or Quit): remove\n",
      "Here is your current cart:\n",
      "____________\n",
      "|Plums-- Qty: 10\n",
      "____________\n",
      "What item would you like to remove?: plums\n",
      "What do you want to do next?(Show/Add/Edit/Remove or Quit): show\n",
      "Your cart is currently empty!\n",
      "What do you want to do next?(Show/Add/Edit/Remove or Quit): add\n",
      "Enter Item to Add: bananas\n",
      "Enter Quantity: 10\n",
      "Add another?(Y/N): n\n",
      "What do you want to do next?(Show/Add/Edit/Remove or Quit): quit\n",
      "You are closing your cart, here was your cart upon closing:\n",
      "____________\n",
      "|Bananas-- Qty: 10\n",
      "____________\n"
     ]
    }
   ],
   "source": [
    "from IPython.display import clear_output\n",
    "from shoppingcart_mod import shopping_cart\n",
    "\n",
    "shopping_cart()"
   ]
  },
  {
   "cell_type": "markdown",
   "metadata": {},
   "source": [
    "### 2) Create a Module in VS Code and Import It into jupyter notebook <br>\n",
    "<p><b>Module should have the following capabilities:</b><br><br>\n",
    "1) Has a function to calculate the square footage of a house <br>\n",
    "    <b>Reminder of Formula: Length X Width == Area<br>\n",
    "        <hr>\n",
    "2) Has a function to calculate the circumference of a circle <br><br>\n",
    "<b>Program in Jupyter Notebook should take in user input and use imported functions to calculate a circle's circumference or a houses square footage</b>\n",
    "</p>"
   ]
  },
  {
   "cell_type": "code",
   "execution_count": 123,
   "metadata": {},
   "outputs": [
    {
     "name": "stdout",
     "output_type": "stream",
     "text": [
      "What would you like to find out:[1]Square footage of a house [2]Circumference of a circle based on radius: (3 to Exit) 1\n",
      "Provide the length of the room (in feet): 20\n",
      "Next, please provide the width of the room (in feet): 20\n",
      "Would you like to add another room?(Y/N): y\n",
      "Provide the length of the room (in feet): 4\n",
      "Next, please provide the width of the room (in feet): 4\n",
      "Would you like to add another room?(Y/N): y\n",
      "Provide the length of the room (in feet): 10\n",
      "Next, please provide the width of the room (in feet): 5\n",
      "Would you like to add another room?(Y/N): n\n",
      "With the dimensions you provided, the total square footage is: 466 sq. feet.\n",
      "\n",
      "What would you like to find out:[1]Square footage of a house [2]Circumference of a circle based on radius: (3 to Exit) 2\n",
      "To determine the circumference, please provide the radius of the circle (inches): 10\n",
      "A circle with the radius of: 10 in. has a circumference of: 62.83185307179586 inches\n",
      "What would you like to find out:[1]Square footage of a house [2]Circumference of a circle based on radius: (3 to Exit) 1\n",
      "Provide the length of the room (in feet): 10\n",
      "Next, please provide the width of the room (in feet): 10\n",
      "Would you like to add another room?(Y/N): n\n",
      "With the dimensions you provided, the total square footage is: 566 sq. feet.\n",
      "\n",
      "What would you like to find out:[1]Square footage of a house [2]Circumference of a circle based on radius: (3 to Exit) 3\n",
      "Thanks for checking out my program! Goodbye!!!!!!\n"
     ]
    }
   ],
   "source": [
    "## import hw_module and utilize two functions defined within it - square_feet() and find_circumference()\n",
    "from hw_module import square_feet, find_circumference\n",
    "\n",
    "#set base conditions to loops, so that I can ask which function the user would like to utilize - and also ask for information for multiple rooms\n",
    "sq_ft_repeat = True\n",
    "sq_feet = 0\n",
    "\n",
    "\n",
    "while True:\n",
    "    #asks user to input 1, 2, or 3 depending on which function they'd like to utilize (3 to quit loop/program)\n",
    "    choice = input(\"What would you like to find out:[1]Square footage of a house [2]Circumference of a circle based on radius: (3 to Exit) \")\n",
    "    #if user inputs '1', they are asked to input length, then width of room\n",
    "    if choice == \"1\":\n",
    "        while sq_ft_repeat == True:\n",
    "            l = int(input( \"Provide the length of the room (in feet): \"))\n",
    "            w = int(input(\"Next, please provide the width of the room (in feet): \"))\n",
    "            sq_feet += (square_feet(l,w))\n",
    "            #user can choose to enter dimensions of additional rooms\n",
    "            sq_repeat = input(\"Would you like to add another room?(Y/N): \").lower()\n",
    "            #if user enters any input other than 'y', it will break the loop and return to first loop - asking to pick 1/2/3\n",
    "            if sq_repeat != \"y\":\n",
    "                print(f\"With the dimensions you provided, the total square footage is: {sq_feet} sq. feet.\\n\")\n",
    "                break\n",
    "    #User inputs 2 and is prompted to enter radius of the circle they want the circumference for \n",
    "    elif choice == \"2\":\n",
    "        r = int(input(\"To determine the circumference, please provide the radius of the circle (inches): \"))\n",
    "        print(f\"A circle with the radius of: {r} in. has a circumference of: {find_circumference(r)} inches\")\n",
    "    #user inputs 3 and the program quits/ends\n",
    "    elif choice == \"3\":\n",
    "        print(\"Thanks for checking out my program! Goodbye!!!!!!\")\n",
    "        break\n",
    "    #to catch any invalid inputs, returns to beginning of loop if user inputs anything other than 1, 2 or 3\n",
    "    else: \n",
    "        print(\"Sorry, input not a valid choice of 1 or 2.\")"
   ]
  }
 ],
 "metadata": {
  "kernelspec": {
   "display_name": "Python 3",
   "language": "python",
   "name": "python3"
  },
  "language_info": {
   "codemirror_mode": {
    "name": "ipython",
    "version": 3
   },
   "file_extension": ".py",
   "mimetype": "text/x-python",
   "name": "python",
   "nbconvert_exporter": "python",
   "pygments_lexer": "ipython3",
   "version": "3.8.5"
  }
 },
 "nbformat": 4,
 "nbformat_minor": 2
}
